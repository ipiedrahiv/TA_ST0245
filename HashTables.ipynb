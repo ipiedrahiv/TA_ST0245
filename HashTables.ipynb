{
 "cells": [
  {
   "cell_type": "markdown",
   "metadata": {},
   "source": [
    "# 1. Hash Tables\n",
    "\n",
    "## 1.1 What is a hash table?\n",
    "\n",
    "A hash table is a data structure in which elements are accessed by a key rather than using an index number. They work very much like a dictionary, when you want to find the definition of a word (the element) you look for it using the name of the word (the key). \n",
    "\n",
    "Hasing is the concept of converting data of an arbitrary size to data of a fixed size, for hash tables in particular we will most offten be turning strings into integers. There are many ways in which this can be done, but some are better than others. For example, one of the advantages of hash tables is its fast lookup time, since every value has a key you only need to search through the keys in order to find the value, but if each key had many values associated to it then it would become slower, since the algorithm would have to look through the keays and then through the related elements. When two elemnts have the same key it's called a collition, and because of what we previously said we can intue that collisions are bad, therefore a hashing strategy that yields many collisions won't be goot, this is where we find the concept of a hash function.\n",
    "\n",
    "## 1.2 Hash functions\n",
    "\n",
    "## 1.3 Hash table operations\n",
    "\n",
    "## 1.4 Hash table implementation"
   ]
  },
  {
   "cell_type": "code",
   "execution_count": null,
   "metadata": {},
   "outputs": [],
   "source": []
  }
 ],
 "metadata": {
  "kernelspec": {
   "display_name": "Python 3",
   "language": "python",
   "name": "python3"
  },
  "language_info": {
   "codemirror_mode": {
    "name": "ipython",
    "version": 3
   },
   "file_extension": ".py",
   "mimetype": "text/x-python",
   "name": "python",
   "nbconvert_exporter": "python",
   "pygments_lexer": "ipython3",
   "version": "3.8.5"
  }
 },
 "nbformat": 4,
 "nbformat_minor": 4
}
