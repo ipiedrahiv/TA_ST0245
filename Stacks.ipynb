{
 "cells": [
  {
   "cell_type": "markdown",
   "metadata": {},
   "source": [
    "# 1. Stacks\n",
    "\n",
    "## 1.1 What is a stack?\n",
    "\n",
    "A stack is a data structure in which appended items are stacked one on top of the last, hence its name. It is often linked to a stack of plates, if you are washing plates and putting them aside, the last plate you washed will be at the top, and the first one will be at the bottom of this plate stack. This means that the last plate to be added to the stack, will be the first to be removed. This behaviour is known as **LIFO**, or **L**ast **I**n **F**irst **O**ut. there are many things in the real world that work in this fashion, the afore mentioned stack of plates, a trash can, in which the first piece of trash tossed will be at the bottom and the last piece will be at the top. In computation, the way recursive operations are executed by your computer also involves a stak, stacks are also widely used in order to verify the placement of parentheses.\n",
    "\n",
    "## 1.2 Stack operations\n",
    "\n",
    "There are two main operations when it comes to stacks, push and pop, there are other operations too, as peek.\n",
    "\n",
    "| Operation | Definition | Parameters | Output | Complexity |\n",
    "|-----------|------------|------------|--------|------------|\n",
    "| Push | Adding or appending an element to the top of a stack. | Value to append | None | O(1) |\n",
    "| Pop | Removing the element at the top of a stack. It returns its value and deletes it from the data structure. | None | Top value | O(1) |\n",
    "| Peek | Returns the element on top of the stack without deleting it from the data structure. | None | Top value | O(1) |\n",
    "\n",
    "## 1.3 Stack implementation\n",
    "\n",
    "Below you will find a bare-bones stack implementation which is missing a couple lines, your task will be to implement the push, pop, and peek methods. When you are done implementing them, feel free to run the test cell.\n",
    "\n",
    "The Node class will represent the values inside the stack, and the Stack class will be the representation of the main data structure, which will be a collection of nodes. The two class constructors are provided, you don't have to change them in any way. The Node class is complete, but the Stack class is missing the implementations of the methods, which you will complete. The method signatures are provided, you don't have to change them in any way."
   ]
  },
  {
   "cell_type": "code",
   "execution_count": 1,
   "metadata": {},
   "outputs": [],
   "source": [
    "class Node:\n",
    "    def __init__(self, data=None):\n",
    "        self.data = data\n",
    "        self.next = None"
   ]
  },
  {
   "cell_type": "code",
   "execution_count": 2,
   "metadata": {},
   "outputs": [],
   "source": [
    "class Stack:\n",
    "    def __init__(self):\n",
    "        self.top = None\n",
    "        self.size = 0\n",
    "        \n",
    "    def push(self, data):\n",
    "        print(\"Implement meee!!!\")\n",
    "        \n",
    "    def pop(self):\n",
    "        print(\"Implement meee!!!\")\n",
    "        \n",
    "    def peek(self):\n",
    "        print(\"Implement meee!!!\")"
   ]
  },
  {
   "cell_type": "code",
   "execution_count": 4,
   "metadata": {},
   "outputs": [],
   "source": [
    "class Node:\n",
    "    def __init__(self, data=None):\n",
    "        self.data = data\n",
    "        self.next = None\n",
    "        \n",
    "\n",
    "class Stack:\n",
    "    def __init__(self):\n",
    "        self.top = None\n",
    "        self.size = 0\n",
    "        \n",
    "    def push(self, data):\n",
    "        node = Node(data)\n",
    "        if self.top:\n",
    "            node.next = self.top\n",
    "            self.top = node\n",
    "        else:\n",
    "            self.top = node\n",
    "        self.size += 1\n",
    "        \n",
    "    def pop(self):\n",
    "        if self.top:\n",
    "            data = self.top.data\n",
    "            self.size -= 1\n",
    "            if self.top.next:\n",
    "                self.top = self.top.next\n",
    "            else:\n",
    "                self.top = None\n",
    "            return data\n",
    "        else:\n",
    "            return None\n",
    "        \n",
    "    def peek(self):\n",
    "        if self.top:\n",
    "            return self.top.data\n",
    "        else:\n",
    "            return None"
   ]
  },
  {
   "cell_type": "markdown",
   "metadata": {},
   "source": [
    "## 1.4 Stack test cell\n",
    "\n",
    "You can run this cell to test the outcome of your implementation. Don't change this cell!! It will stop running if one of the test fails, fix your code so that it passes it and then run this cell again, and so on."
   ]
  },
  {
   "cell_type": "code",
   "execution_count": 5,
   "metadata": {},
   "outputs": [
    {
     "name": "stdout",
     "output_type": "stream",
     "text": [
      "Passed push test 1\n",
      "Passed push test 2\n",
      "Passed push test 3\n",
      "Passed push test 4\n",
      "Passed push test 5\n",
      "Passed peek test 1\n",
      "Passed pop test 1\n",
      "Passed peek test 2\n",
      "Passed pop test 2\n",
      "Passed peek test 3\n",
      "Passed pop test 3\n",
      "Passed peek test 4\n",
      "Passed pop test 4\n",
      "Passed peek test 5\n",
      "Passed pop test 5\n"
     ]
    }
   ],
   "source": [
    "test_stack = Stack()\n",
    "\n",
    "# Push tests\n",
    "assert test_stack.push(1) == None and test_stack.size == 1\n",
    "print (\"Passed push test 1\")\n",
    "assert test_stack.push(2) == None and test_stack.size == 2\n",
    "print (\"Passed push test 2\")\n",
    "assert test_stack.push(3) == None and test_stack.size == 3\n",
    "print (\"Passed push test 3\")\n",
    "assert test_stack.push(4) == None and test_stack.size == 4\n",
    "print (\"Passed push test 4\")\n",
    "assert test_stack.push(5) == None and test_stack.size == 5\n",
    "print (\"Passed push test 5\")\n",
    "\n",
    "# Peek and pop tests\n",
    "assert test_stack.peek() == 5 and test_stack.size == 5\n",
    "print (\"Passed peek test 1\")\n",
    "assert test_stack.pop() == 5 and test_stack.size == 4\n",
    "print (\"Passed pop test 1\")\n",
    "assert test_stack.peek() == 4 and test_stack.size == 4\n",
    "print (\"Passed peek test 2\")\n",
    "assert test_stack.pop() == 4 and test_stack.size == 3\n",
    "print (\"Passed pop test 2\")\n",
    "assert test_stack.peek() == 3 and test_stack.size == 3\n",
    "print (\"Passed peek test 3\")\n",
    "assert test_stack.pop() == 3 and test_stack.size == 2\n",
    "print (\"Passed pop test 3\")\n",
    "assert test_stack.peek() == 2 and test_stack.size == 2\n",
    "print (\"Passed peek test 4\")\n",
    "assert test_stack.pop() == 2 and test_stack.size == 1\n",
    "print (\"Passed pop test 4\")\n",
    "assert test_stack.peek() == 1 and test_stack.size == 1\n",
    "print (\"Passed peek test 5\")\n",
    "assert test_stack.pop() == 1 and test_stack.size == 0\n",
    "print (\"Passed pop test 5\")"
   ]
  },
  {
   "cell_type": "markdown",
   "metadata": {},
   "source": [
    "## 1.5 Parenthesis matching\n",
    "\n",
    "As an additional exercise, try using the previously implemented stack to make a bracket-matcher. This piece of code will recieve a string made only of brackets, square brackets, and curly brackets as a parameter and will return true if all the brackets are properly matched, and false if they are not. \n",
    "\n",
    "Some examples of properly matched strings would be:\n",
    "\n",
    "- ( ) ( ) ( ) ( ) \n",
    "- [ ( { } ) ]\n",
    "- { ( ) } [ ] \n",
    "\n",
    "Some examples of unproperly matched strings would be:\n",
    "\n",
    "- ( ( (\n",
    "- ( ) ( ) ( }\n",
    "- { [ } ]"
   ]
  },
  {
   "cell_type": "code",
   "execution_count": 97,
   "metadata": {},
   "outputs": [],
   "source": [
    "def check_brackets(statement):\n",
    "    stack = Stack()\n",
    "    \n",
    "    for character in statement:\n",
    "        if (character == '(') or (character == '{') or (character == '['):\n",
    "            stack.push(character)\n",
    "        if (character == ')') or (character == '}') or (character == ']'):\n",
    "            last = stack.pop()\n",
    "            if (last == '{') and (character == '}'):\n",
    "                continue\n",
    "            elif (last == '[') and (character == ']'):\n",
    "                continue\n",
    "            elif (last == '(') and (character == ')'):\n",
    "                continue\n",
    "            else:\n",
    "                return False\n",
    "        \n",
    "    if stack.size > 0:\n",
    "        return False\n",
    "    else:\n",
    "        return True\n",
    "            "
   ]
  },
  {
   "cell_type": "code",
   "execution_count": 106,
   "metadata": {},
   "outputs": [
    {
     "name": "stdout",
     "output_type": "stream",
     "text": [
      "Passed test 1\n",
      "Passed test 1\n",
      "Passed test 1\n",
      "Passed test 1\n",
      "Passed test 1\n",
      "Passed test 1\n",
      "Passed test 1\n",
      "Passed test 1\n",
      "Passed test 1\n",
      "Passed test 1\n",
      "Passed test 1\n",
      "Passed test 1\n",
      "Passed test 1\n",
      "Passed test 1\n"
     ]
    }
   ],
   "source": [
    "# Matched string tests\n",
    "\n",
    "assert check_brackets('()()()') == True\n",
    "print (\"Passed test 1\")\n",
    "assert check_brackets('()[](){}()') == True\n",
    "print (\"Passed test 2\")\n",
    "assert check_brackets('()()()[[]]') == True\n",
    "print (\"Passed test 3\")\n",
    "assert check_brackets('({})(((())))([])') == True\n",
    "print (\"Passed test 1\")\n",
    "assert check_brackets('{(){[]}(())()}') == True\n",
    "print (\"Passed test 1\")\n",
    "assert check_brackets('()()()[][][]{}{}{}') == True\n",
    "print (\"Passed test 1\")\n",
    "assert check_brackets('{[()]}') == True\n",
    "print (\"Passed test 1\")\n",
    "\n",
    "# Unmatched string tests\n",
    "\n",
    "assert check_brackets('()()()))') == False\n",
    "print (\"Passed test 1\")\n",
    "assert check_brackets('()[[]](){}())') == False\n",
    "print (\"Passed test 1\")\n",
    "assert check_brackets('()()()[[]}]') == False\n",
    "print (\"Passed test 1\")\n",
    "assert check_brackets('({})(((((}}))))([])') == False\n",
    "print (\"Passed test 1\")\n",
    "assert check_brackets('{(){([]}(())()}') == False\n",
    "print (\"Passed test 1\")\n",
    "assert check_brackets('()()()[][}][]{}{}{}') == False\n",
    "print (\"Passed test 1\")\n",
    "assert check_brackets('{[(()]}') == False\n",
    "print (\"Passed test 1\")"
   ]
  },
  {
   "cell_type": "code",
   "execution_count": 105,
   "metadata": {},
   "outputs": [
    {
     "data": {
      "text/plain": [
       "False"
      ]
     },
     "execution_count": 105,
     "metadata": {},
     "output_type": "execute_result"
    }
   ],
   "source": [
    "check_brackets('({})(((((}}))))([])')"
   ]
  },
  {
   "cell_type": "code",
   "execution_count": null,
   "metadata": {},
   "outputs": [],
   "source": []
  }
 ],
 "metadata": {
  "kernelspec": {
   "display_name": "Python 3",
   "language": "python",
   "name": "python3"
  },
  "language_info": {
   "codemirror_mode": {
    "name": "ipython",
    "version": 3
   },
   "file_extension": ".py",
   "mimetype": "text/x-python",
   "name": "python",
   "nbconvert_exporter": "python",
   "pygments_lexer": "ipython3",
   "version": "3.8.5"
  }
 },
 "nbformat": 4,
 "nbformat_minor": 4
}
