{
 "cells": [
  {
   "cell_type": "code",
   "execution_count": 1,
   "metadata": {},
   "outputs": [],
   "source": [
    "class BinarySearchTree:\n",
    "\n",
    "    def __init__(self):\n",
    "        self.root = None\n",
    "\n",
    "    def __iter__(self):\n",
    "        return self.root.__iter__()\n",
    "    \n",
    "    def insert_aux(self, value, node):\n",
    "        if node == None:\n",
    "            node = TreeNode(value)\n",
    "            return node\n",
    "        if value < node.value:\n",
    "            node.left = insert_aux(self, value, node.left)\n",
    "        elif value > node.value:\n",
    "            node.right = insert_aux(self, value, node.right)\n",
    "        return node\n",
    "            \n",
    "    def insert(self, value):\n",
    "        if self.root == None:\n",
    "            self.root = TreeNode(value)\n",
    "        else:\n",
    "            insert_aux(self, value, self.root)\n",
    "            \n",
    "    def search_aux(self, value, node):\n",
    "        if node == None:\n",
    "            print(\"Not found\")\n",
    "            return False\n",
    "        elif node.value == value:\n",
    "            print(\"Found\")\n",
    "            return True\n",
    "        \n",
    "        if node.value > value:\n",
    "            return search_aux(self, value, node.left)\n",
    "        elif node.value < value:\n",
    "            return search_aux(self, value, node.right)\n",
    "        else:\n",
    "            return False\n",
    "        \n",
    "    def search(self, value):\n",
    "        search_aux(self, value, self.root)\n",
    "        \n",
    "    def recursive_print(node, space):\n",
    "        if node == None:\n",
    "            return\n",
    "        \n",
    "        space = space + 10\n",
    "        \n",
    "        recursive_print(node.right, space)\n",
    "        \n",
    "        print(\"\\n\")\n",
    "        \n",
    "        for i in range \n",
    "    "
   ]
  },
  {
   "cell_type": "code",
   "execution_count": 2,
   "metadata": {},
   "outputs": [],
   "source": [
    "class TreeNode:\n",
    "    \n",
    "    def __init__(self, value, left = None, right = None):\n",
    "        self.value = value\n",
    "        self.left = None\n",
    "        self.right = None"
   ]
  },
  {
   "cell_type": "code",
   "execution_count": 3,
   "metadata": {},
   "outputs": [],
   "source": [
    "arbol = BinarySearchTree()"
   ]
  },
  {
   "cell_type": "code",
   "execution_count": 4,
   "metadata": {},
   "outputs": [],
   "source": [
    "arbol.insert(5)"
   ]
  },
  {
   "cell_type": "code",
   "execution_count": 5,
   "metadata": {},
   "outputs": [
    {
     "name": "stdout",
     "output_type": "stream",
     "text": [
      "5\n"
     ]
    }
   ],
   "source": [
    "print(arbol.root.value)"
   ]
  },
  {
   "cell_type": "code",
   "execution_count": 9,
   "metadata": {},
   "outputs": [],
   "source": [
    "arbol.insert(2)"
   ]
  },
  {
   "cell_type": "code",
   "execution_count": 10,
   "metadata": {},
   "outputs": [
    {
     "name": "stdout",
     "output_type": "stream",
     "text": [
      "2\n"
     ]
    }
   ],
   "source": [
    "print(arbol.root.left.value)"
   ]
  },
  {
   "cell_type": "code",
   "execution_count": 11,
   "metadata": {},
   "outputs": [],
   "source": [
    "arbol.insert(3)\n",
    "arbol.insert(1)\n",
    "arbol.insert(7)"
   ]
  },
  {
   "cell_type": "code",
   "execution_count": 13,
   "metadata": {},
   "outputs": [
    {
     "name": "stdout",
     "output_type": "stream",
     "text": [
      "Not found\n"
     ]
    }
   ],
   "source": [
    "arbol.search(17)"
   ]
  },
  {
   "cell_type": "code",
   "execution_count": 14,
   "metadata": {},
   "outputs": [],
   "source": [
    "arbol.insert(7)"
   ]
  },
  {
   "cell_type": "code",
   "execution_count": null,
   "metadata": {},
   "outputs": [],
   "source": []
  }
 ],
 "metadata": {
  "kernelspec": {
   "display_name": "Python 3",
   "language": "python",
   "name": "python3"
  },
  "language_info": {
   "codemirror_mode": {
    "name": "ipython",
    "version": 3
   },
   "file_extension": ".py",
   "mimetype": "text/x-python",
   "name": "python",
   "nbconvert_exporter": "python",
   "pygments_lexer": "ipython3",
   "version": "3.8.5"
  }
 },
 "nbformat": 4,
 "nbformat_minor": 4
}
