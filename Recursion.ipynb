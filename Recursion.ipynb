{
 "cells": [
  {
   "cell_type": "markdown",
   "metadata": {
    "slideshow": {
     "slide_type": "slide"
    }
   },
   "source": [
    "# 1 RECURSION\n",
    "\n",
    "\n",
    "## 1.1 What is recursion?\n",
    "\n",
    "It is the repeated aplicarion of a **recursive** solution.\n",
    "\n",
    "Recursion in programming consist of calling the same method in order to solve smaller and smaller versions of the problem that wants to be solved, which then can be used to give the desired answer. So that this may work, the current problem must obey two rules:\n",
    "    \n",
    "    1) Recursive case: It can be broken down into smaller version of itself.\n",
    "    \n",
    "    2) Base case: It has at least one known stop point.\n",
    "\n",
    "## 1.2 Recursion and iteration\n",
    "\n",
    "The concept of repeating the same block of instructions over and over might sound familiar to you, you probably have already encountered this sort of solution when working with for, while, and do-while loops.\n",
    "\n",
    "Put in simple terms, a recursive function uses a base case, a recursive case and parameters to solve a problem by calling itself over and over, while an iterative function uses a counter, a stopping condition and an increment to repeat some part of the code by using a loop.\n",
    "\n",
    "It has been proven that any iterative algorithm can be written recursively, this is why in functional programming loops are said to be a particular case of recusrion called *tail-recursive*.\n",
    "\n",
    "## 1.3 Example\n",
    "\n",
    "Recursion is not the easiest concept to grasp, so perhaps a day to day example might help before we get into the more thechnical ones. \n",
    "\n",
    "Imagine you are on a really large classroom, and you want to know hay many rows in the room, counting them looks like too much trouble, so you ask the person in front of you how many rows they count up until their own. They don't want to do it either, so they ask the person in front of them, who does the same, and this goes on and on until they reach the person on first row, who sayd when asked \"None\". This way the answer makes its way back up, the person who asked the person in the first row know they only needs to add one to the answer, and the person behind them also has to do just that, and so after this long game of hot potato you on the very back row, get to know the answer without doing the counting one by one.\n",
    "\n",
    "Here the base case would represent a point where there are no rows to count, which would be the first row. The recursive case would be finding the amount of rows in front of the row in front of you.\n",
    "\n",
    "Now lets go on to some more thechnical examples, from now on I'll provide you with a solved exercise and a similar one for you to work on.\n"
   ]
  },
  {
   "cell_type": "markdown",
   "metadata": {},
   "source": [
    "# 2 Examples"
   ]
  },
  {
   "cell_type": "markdown",
   "metadata": {
    "slideshow": {
     "slide_type": "slide"
    }
   },
   "source": [
    "## 2.1 Factorial\n",
    "\n",
    "Our first example will be to make a function that will find the factorial *n!* for a given number *n*. The factorial is defines as the product of all the positive integers smaller or equal to the given number, for example:\n",
    "\n",
    "5! = 5 * 4 * 3 * 2 * 1 = 120\n",
    "\n",
    "Furthermore, we know that 1! = 1 and 0! = 1. \n",
    "\n",
    "This gives us an important insight, which is that factorials can be built upon each other to solve the factorial of a greater number.\n",
    "\n",
    "- 5! = 5 * 4!\n",
    "- 4! = 4 * 3!\n",
    "- 3! = 3 * 2!\n",
    "- 2! = 2 * 1!\n",
    "- 1! = 1       //We can stop here because it is obvios, or **trivial**, that 1! is 1.\n",
    "\n",
    "Lets see a recursive function that can do this."
   ]
  },
  {
   "cell_type": "code",
   "execution_count": 1,
   "metadata": {},
   "outputs": [
    {
     "name": "stdout",
     "output_type": "stream",
     "text": [
      "Fectorial of 6 is: 720\n"
     ]
    }
   ],
   "source": [
    "def factorial_recursive(n):\n",
    "    #Base case: 1! = 1\n",
    "    if n == 1:\n",
    "        return 1\n",
    "    \n",
    "    #Recursive case: n * (n-1)!\n",
    "    else:\n",
    "        return n * factorial_recursive(n-1)\n",
    "    \n",
    "    \n",
    "print(\"Fectorial of 6 is:\", factorial_recursive(6))"
   ]
  },
  {
   "cell_type": "code",
   "execution_count": 2,
   "metadata": {},
   "outputs": [
    {
     "name": "stdout",
     "output_type": "stream",
     "text": [
      "Passed test 1\n",
      "Passed test 2\n",
      "Passed test 3\n",
      "Passed test 4\n",
      "Passed test 5\n",
      "Passed test 6\n",
      "Passed test 7\n"
     ]
    }
   ],
   "source": [
    "assert factorial_recursive(1) == 1\n",
    "print (\"Passed test 1\")\n",
    "assert factorial_recursive(2) == 2\n",
    "print (\"Passed test 2\")\n",
    "assert factorial_recursive(3) == 6\n",
    "print (\"Passed test 3\")\n",
    "assert factorial_recursive(4) == 24\n",
    "print (\"Passed test 4\")\n",
    "assert factorial_recursive(5) == 120\n",
    "print (\"Passed test 5\")\n",
    "assert factorial_recursive(6) == 720\n",
    "print (\"Passed test 6\")\n",
    "assert factorial_recursive(12) == 479001600\n",
    "print (\"Passed test 7\")"
   ]
  },
  {
   "cell_type": "markdown",
   "metadata": {},
   "source": [
    "## 2.2 Triangle\n",
    "\n",
    "We have a series of triangles made of blocks, on each row of blocks there is one block less than in the one below, and the row at the very top of the triangle only has one block on it. Meaning, the top most row has 1 block, the one below that has 2, the next one has three, and so on. Your task is to make a recursive algorithm that finds out how many blocks were used to make a triangle when given the number of rows.\n",
    "\n",
    "These are some examples and their expected output.\n",
    "\n",
    "- triangle_recursive(1) = 1\n",
    "- triangle_recursive(2) = 3\n",
    "- triangle_recursive(3) = 6\n",
    "- triangle_recursive(4) = 10\n",
    "- triangle_recursive(5) = 15\n",
    "- triangle_recursive(6) = 21\n",
    "- triangle_recursive(7) = 28\n",
    "\n",
    "Complete the code below without altering the method signature, but feel free to delete the print commads, I only put them there so that there would be no compilation mistakes.\n",
    "\n",
    "On the block directly below this one, there will be some unit tests, make sure to run the in order to make sure your code is working.\n"
   ]
  },
  {
   "cell_type": "code",
   "execution_count": 3,
   "metadata": {},
   "outputs": [
    {
     "ename": "IndentationError",
     "evalue": "expected an indented block (<ipython-input-3-ac8e0f874d64>, line 5)",
     "output_type": "error",
     "traceback": [
      "\u001b[0;36m  File \u001b[0;32m\"<ipython-input-3-ac8e0f874d64>\"\u001b[0;36m, line \u001b[0;32m5\u001b[0m\n\u001b[0;31m    else:\u001b[0m\n\u001b[0m    ^\u001b[0m\n\u001b[0;31mIndentationError\u001b[0m\u001b[0;31m:\u001b[0m expected an indented block\n"
     ]
    }
   ],
   "source": [
    "def triangle_recursive(n):  \n",
    "    if n == 1:\n",
    "       # Base case\n",
    "    \n",
    "    else: \n",
    "        # Recursive case\n",
    "        "
   ]
  },
  {
   "cell_type": "code",
   "execution_count": 4,
   "metadata": {},
   "outputs": [
    {
     "ename": "NameError",
     "evalue": "name 'triangle_recursive' is not defined",
     "output_type": "error",
     "traceback": [
      "\u001b[0;31m---------------------------------------------------------------------------\u001b[0m",
      "\u001b[0;31mNameError\u001b[0m                                 Traceback (most recent call last)",
      "\u001b[0;32m<ipython-input-4-6c143c66f4ed>\u001b[0m in \u001b[0;36m<module>\u001b[0;34m\u001b[0m\n\u001b[0;32m----> 1\u001b[0;31m \u001b[0;32massert\u001b[0m \u001b[0mtriangle_recursive\u001b[0m\u001b[0;34m(\u001b[0m\u001b[0;36m1\u001b[0m\u001b[0;34m)\u001b[0m \u001b[0;34m==\u001b[0m \u001b[0;36m1\u001b[0m\u001b[0;34m\u001b[0m\u001b[0;34m\u001b[0m\u001b[0m\n\u001b[0m\u001b[1;32m      2\u001b[0m \u001b[0mprint\u001b[0m \u001b[0;34m(\u001b[0m\u001b[0;34m\"Passed test 1\"\u001b[0m\u001b[0;34m)\u001b[0m\u001b[0;34m\u001b[0m\u001b[0;34m\u001b[0m\u001b[0m\n\u001b[1;32m      3\u001b[0m \u001b[0;32massert\u001b[0m \u001b[0mtriangle_recursive\u001b[0m\u001b[0;34m(\u001b[0m\u001b[0;36m2\u001b[0m\u001b[0;34m)\u001b[0m \u001b[0;34m==\u001b[0m \u001b[0;36m3\u001b[0m\u001b[0;34m\u001b[0m\u001b[0;34m\u001b[0m\u001b[0m\n\u001b[1;32m      4\u001b[0m \u001b[0mprint\u001b[0m \u001b[0;34m(\u001b[0m\u001b[0;34m\"Passed test 2\"\u001b[0m\u001b[0;34m)\u001b[0m\u001b[0;34m\u001b[0m\u001b[0;34m\u001b[0m\u001b[0m\n\u001b[1;32m      5\u001b[0m \u001b[0;32massert\u001b[0m \u001b[0mtriangle_recursive\u001b[0m\u001b[0;34m(\u001b[0m\u001b[0;36m3\u001b[0m\u001b[0;34m)\u001b[0m \u001b[0;34m==\u001b[0m \u001b[0;36m6\u001b[0m\u001b[0;34m\u001b[0m\u001b[0;34m\u001b[0m\u001b[0m\n",
      "\u001b[0;31mNameError\u001b[0m: name 'triangle_recursive' is not defined"
     ]
    }
   ],
   "source": [
    "assert triangle_recursive(1) == 1\n",
    "print (\"Passed test 1\")\n",
    "assert triangle_recursive(2) == 3\n",
    "print (\"Passed test 2\")\n",
    "assert triangle_recursive(3) == 6\n",
    "print (\"Passed test 3\")\n",
    "assert triangle_recursive(4) == 10\n",
    "print (\"Passed test 4\")\n",
    "assert triangle_recursive(5) == 15\n",
    "print (\"Passed test 5\")\n",
    "assert triangle_recursive(6) == 21\n",
    "print (\"Passed test 6\")\n",
    "assert triangle_recursive(7) == 28\n",
    "print (\"Passed test 7\")"
   ]
  },
  {
   "cell_type": "markdown",
   "metadata": {},
   "source": [
    "## 2.3 Fibonacci\n",
    "\n",
    "One of the most common recursion examples is to find the n-th number in the fibonacci sequence, in which each number is obtained by adding the two previous nubers starting with 0 and 1, as follows:\n",
    "\n",
    "**0**, **1**, 1, 2, 3, 5, 8, 13, ...\n",
    "\n",
    "A recursive method to find the n-th fibonacci term, starting on 0 could be as follows. Feel free to complete the code below the unit tests."
   ]
  },
  {
   "cell_type": "code",
   "execution_count": 44,
   "metadata": {},
   "outputs": [],
   "source": [
    "def fibonacci_recursive(n):\n",
    "    if n <= 1:\n",
    "        # Base case\n",
    "        \n",
    "    else:\n",
    "        # Recursive case\n",
    "        "
   ]
  },
  {
   "cell_type": "code",
   "execution_count": 45,
   "metadata": {},
   "outputs": [
    {
     "name": "stdout",
     "output_type": "stream",
     "text": [
      "Passed test 1\n",
      "Passed test 2\n",
      "Passed test 3\n",
      "Passed test 4\n",
      "Passed test 5\n",
      "Passed test 6\n",
      "Passed test 7\n",
      "Passed test 8\n"
     ]
    }
   ],
   "source": [
    "assert fibonacci_recursive(1) == 1\n",
    "print (\"Passed test 1\")\n",
    "assert fibonacci_recursive(2) == 1\n",
    "print (\"Passed test 2\")\n",
    "assert fibonacci_recursive(3) == 2\n",
    "print (\"Passed test 3\")\n",
    "assert fibonacci_recursive(4) == 3\n",
    "print (\"Passed test 4\")\n",
    "assert fibonacci_recursive(5) == 5\n",
    "print (\"Passed test 5\")\n",
    "assert fibonacci_recursive(6) == 8\n",
    "print (\"Passed test 6\")\n",
    "assert fibonacci_recursive(7) == 13\n",
    "print (\"Passed test 7\")\n",
    "assert fibonacci_recursive(0) == 0\n",
    "print (\"Passed test 8\")"
   ]
  },
  {
   "cell_type": "markdown",
   "metadata": {},
   "source": [
    "## 2.4 Power of N\n",
    "\n",
    "There can be more than one relevant parameter when doing recursive functions, for example, $4^6$ or any other similar expresion in the form of $k^n$ can be solved recursively by remebering the following:\n",
    "\n",
    "$k^n$ = k * $k^{n-1}$ = k * k * $k^{n-2}$ = k * k * k * $k^{n-3}$ = ... = k * k * ... * k * $k^1$ * $k^0$\n",
    "\n",
    "$k^1$ = k\n",
    "\n",
    "$k^0$ = 1\n",
    "\n",
    "We can use this information to deduce a recursive case and two base cases, and create a recursive function capable of powering any number k, which is our base, to any number n, which is our exponent. Directly below you will once again find unit tests, and underneath that the implementation of the solution."
   ]
  },
  {
   "cell_type": "code",
   "execution_count": 53,
   "metadata": {},
   "outputs": [],
   "source": [
    "def power_recursive(base, exponent):\n",
    "    if exponent == 0:\n",
    "        return 1\n",
    "    elif exponent == 1:\n",
    "        return base\n",
    "    else:\n",
    "        return base * power_recursive(base, exponent-1)"
   ]
  },
  {
   "cell_type": "code",
   "execution_count": 57,
   "metadata": {},
   "outputs": [
    {
     "name": "stdout",
     "output_type": "stream",
     "text": [
      "Passed test 1\n",
      "Passed test 2\n",
      "Passed test 3\n",
      "Passed test 4\n",
      "Passed test 5\n",
      "Passed test 6\n",
      "Passed test 7\n"
     ]
    }
   ],
   "source": [
    "assert power_recursive(7, 7) == 823543\n",
    "print (\"Passed test 1\")\n",
    "assert power_recursive(5, 9) == 1953125\n",
    "print (\"Passed test 2\")\n",
    "assert power_recursive(4, 2) == 16\n",
    "print (\"Passed test 3\")\n",
    "assert power_recursive(5, 3) == 125\n",
    "print (\"Passed test 4\")\n",
    "assert power_recursive(1, 5) == 1 \n",
    "print (\"Passed test 5\")\n",
    "assert power_recursive(4, 0) == 1 \n",
    "print (\"Passed test 6\")\n",
    "assert power_recursive(3, 11) == 177147\n",
    "print (\"Passed test 7\")"
   ]
  },
  {
   "cell_type": "markdown",
   "metadata": {},
   "source": [
    "## 2.5 Palindrome\n",
    "\n",
    "You can also use recursive algorithms to determine if a string is a palindrome, which means it can be read the same front to back as back to front, for example *Rotor* is read the same both ways. \n",
    "\n",
    "We know that any word that has only on eletter, or no letters at all, is a palindrome, so this will be our base case. Further more, we can check for symmetry on a word by comparing the fist and last letters, because if at any point they are different, we know the word is not a palindrome, we use this to decompose the problem into smaller ones by skinning each layer of the word as follows:\n",
    "\n",
    "- **R**oto**R** //They are the same, so far we cant decide if the word is a palindrome, but we can ignore these two.\n",
    "- **O**t**O** //Here the out most letters are \n",
    "- **T** //As this is only one letter, we know it is a palindrome\n",
    "\n",
    "This example also goes to show that there are easier ways to achieve the same thing, as seen when using Pythons [::-1] function."
   ]
  },
  {
   "cell_type": "code",
   "execution_count": 40,
   "metadata": {},
   "outputs": [
    {
     "data": {
      "text/plain": [
       "True"
      ]
     },
     "execution_count": 40,
     "metadata": {},
     "output_type": "execute_result"
    }
   ],
   "source": [
    "def palindrome_recursive(word):\n",
    "    if len(word) <= 1:\n",
    "        return True\n",
    "    elif word[0].lower() != word[-1].lower():\n",
    "        return False\n",
    "    else:\n",
    "        return palindrome_recursive(word[1:-1])\n",
    "        \n",
    "palindrome_recursive(\"Holoh\")"
   ]
  },
  {
   "cell_type": "code",
   "execution_count": 43,
   "metadata": {},
   "outputs": [
    {
     "data": {
      "text/plain": [
       "False"
      ]
     },
     "execution_count": 43,
     "metadata": {},
     "output_type": "execute_result"
    }
   ],
   "source": [
    "def palindrome_iterative(word):\n",
    "    return word == word[::-1]\n",
    "\n",
    "palindrome_iterative(\"aasdjhe\")"
   ]
  },
  {
   "cell_type": "code",
   "execution_count": 42,
   "metadata": {},
   "outputs": [
    {
     "name": "stdout",
     "output_type": "stream",
     "text": [
      "Passed test 1\n",
      "Passed test 2\n",
      "Passed test 3\n",
      "Passed test 4\n",
      "Passed test 5\n",
      "Passed test 6\n",
      "Passed test 7\n"
     ]
    }
   ],
   "source": [
    "assert palindrome_recursive(\"tacocat\") == True\n",
    "print (\"Passed test 1\")\n",
    "assert palindrome_recursive(\"motor\") == False\n",
    "print (\"Passed test 2\")\n",
    "assert palindrome_recursive(\"asddsa\") == True\n",
    "print (\"Passed test 3\")\n",
    "assert palindrome_recursive(\"\") == True\n",
    "print (\"Passed test 4\")\n",
    "assert palindrome_recursive(\"a\") == True\n",
    "print (\"Passed test 5\")\n",
    "assert palindrome_recursive(\"papitas fritas\") == False\n",
    "print (\"Passed test 6\")\n",
    "assert palindrome_recursive(\"si\") == False\n",
    "print (\"Passed test 7\")"
   ]
  }
 ],
 "metadata": {
  "kernelspec": {
   "display_name": "Python 3",
   "language": "python",
   "name": "python3"
  },
  "language_info": {
   "codemirror_mode": {
    "name": "ipython",
    "version": 3
   },
   "file_extension": ".py",
   "mimetype": "text/x-python",
   "name": "python",
   "nbconvert_exporter": "python",
   "pygments_lexer": "ipython3",
   "version": "3.8.1"
  }
 },
 "nbformat": 4,
 "nbformat_minor": 4
}
